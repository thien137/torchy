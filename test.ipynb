{
 "cells": [
  {
   "cell_type": "code",
   "execution_count": 1,
   "metadata": {},
   "outputs": [],
   "source": [
    "import torchy\n",
    "import numpy as np"
   ]
  },
  {
   "cell_type": "markdown",
   "metadata": {},
   "source": [
    "# Basic Operations"
   ]
  },
  {
   "cell_type": "code",
   "execution_count": 2,
   "metadata": {},
   "outputs": [
    {
     "data": {
      "text/plain": [
       "(tensor(array([1, 2, 3, 4, 5]), device=cpu, requires_grad=False),\n",
       " tensor(array([5, 4, 3, 2, 1]), device=cpu, requires_grad=False))"
      ]
     },
     "execution_count": 2,
     "metadata": {},
     "output_type": "execute_result"
    }
   ],
   "source": [
    "x = torchy.Tensor(np.array([1, 2, 3, 4, 5]))\n",
    "y = torchy.Tensor([5, 4, 3, 2, 1])\n",
    "x, y"
   ]
  },
  {
   "cell_type": "code",
   "execution_count": 3,
   "metadata": {},
   "outputs": [
    {
     "data": {
      "text/plain": [
       "tensor(array([6, 6, 6, 6, 6]), device=cpu, requires_grad=False)"
      ]
     },
     "execution_count": 3,
     "metadata": {},
     "output_type": "execute_result"
    }
   ],
   "source": [
    "x + y"
   ]
  },
  {
   "cell_type": "code",
   "execution_count": 4,
   "metadata": {},
   "outputs": [
    {
     "data": {
      "text/plain": [
       "tensor(array([-4, -2,  0,  2,  4]), device=cpu, requires_grad=False)"
      ]
     },
     "execution_count": 4,
     "metadata": {},
     "output_type": "execute_result"
    }
   ],
   "source": [
    "x - y"
   ]
  },
  {
   "cell_type": "code",
   "execution_count": 5,
   "metadata": {},
   "outputs": [
    {
     "data": {
      "text/plain": [
       "tensor(array([5, 8, 9, 8, 5]), device=cpu, requires_grad=False)"
      ]
     },
     "execution_count": 5,
     "metadata": {},
     "output_type": "execute_result"
    }
   ],
   "source": [
    "x * y"
   ]
  },
  {
   "cell_type": "code",
   "execution_count": 6,
   "metadata": {},
   "outputs": [
    {
     "ename": "AttributeError",
     "evalue": "'list' object has no attribute 'requires_grad'",
     "output_type": "error",
     "traceback": [
      "\u001b[0;31m---------------------------------------------------------------------------\u001b[0m",
      "\u001b[0;31mAttributeError\u001b[0m                            Traceback (most recent call last)",
      "\u001b[1;32m/home/thienl/Documents/projects/torchy/test.ipynb Cell 7\u001b[0m line \u001b[0;36m1\n\u001b[0;32m----> <a href='vscode-notebook-cell:/home/thienl/Documents/projects/torchy/test.ipynb#X20sZmlsZQ%3D%3D?line=0'>1</a>\u001b[0m x \u001b[39m/\u001b[39;49m y\n",
      "File \u001b[0;32m~/Documents/projects/torchy/torchy/_tensor.py:74\u001b[0m, in \u001b[0;36mTensor.__truediv__\u001b[0;34m(self, other)\u001b[0m\n\u001b[1;32m     73\u001b[0m \u001b[39mdef\u001b[39;00m\u001b[39m \u001b[39m\u001b[39m__truediv__\u001b[39m(\u001b[39mself\u001b[39m, other):\n\u001b[0;32m---> 74\u001b[0m     \u001b[39mreturn\u001b[39;00m torchy\u001b[39m.\u001b[39;49mdivide(\u001b[39mself\u001b[39;49m, other)\n",
      "File \u001b[0;32m~/Documents/projects/torchy/torchy/_numpy/_binary_ufuncs.py:12\u001b[0m, in \u001b[0;36m_binary_check_device_and_convert_input_to_tensor.<locals>.wrapper\u001b[0;34m(self, other)\u001b[0m\n\u001b[1;32m     10\u001b[0m \u001b[39melse\u001b[39;00m:\n\u001b[1;32m     11\u001b[0m     other \u001b[39m=\u001b[39m Tensor(other, device\u001b[39m=\u001b[39m\u001b[39mself\u001b[39m\u001b[39m.\u001b[39mdevice)\n\u001b[0;32m---> 12\u001b[0m \u001b[39mreturn\u001b[39;00m method(\u001b[39mself\u001b[39;49m, other)\n",
      "File \u001b[0;32m~/Documents/projects/torchy/torchy/_numpy/_binary_ufuncs.py:29\u001b[0m, in \u001b[0;36mdivide\u001b[0;34m(x, y)\u001b[0m\n\u001b[1;32m     27\u001b[0m \u001b[39m@_binary_check_device_and_convert_input_to_tensor\u001b[39m\n\u001b[1;32m     28\u001b[0m \u001b[39mdef\u001b[39;00m\u001b[39m \u001b[39m\u001b[39mdivide\u001b[39m(x: Tensor, y: Tensor):\n\u001b[0;32m---> 29\u001b[0m     \u001b[39mreturn\u001b[39;00m Div\u001b[39m.\u001b[39;49mapply(x, y)\n",
      "File \u001b[0;32m~/Documents/projects/torchy/torchy/autograd/function.py:80\u001b[0m, in \u001b[0;36mFunction.apply\u001b[0;34m(cls, *inputs)\u001b[0m\n\u001b[1;32m     77\u001b[0m     outputs \u001b[39m=\u001b[39m (outputs,)\n\u001b[1;32m     79\u001b[0m \u001b[39mfor\u001b[39;00m output \u001b[39min\u001b[39;00m outputs:\n\u001b[0;32m---> 80\u001b[0m     output\u001b[39m.\u001b[39;49mrequires_grad \u001b[39m=\u001b[39m \u001b[39many\u001b[39m(x\u001b[39m.\u001b[39mrequires_grad \u001b[39mfor\u001b[39;00m x \u001b[39min\u001b[39;00m inputs)\n\u001b[1;32m     82\u001b[0m     \u001b[39mif\u001b[39;00m output\u001b[39m.\u001b[39mrequires_grad:\n\u001b[1;32m     83\u001b[0m         output\u001b[39m.\u001b[39mgrad_fn \u001b[39m=\u001b[39m backward_fn\n",
      "\u001b[0;31mAttributeError\u001b[0m: 'list' object has no attribute 'requires_grad'"
     ]
    }
   ],
   "source": [
    "x / y"
   ]
  },
  {
   "cell_type": "markdown",
   "metadata": {},
   "source": [
    "# Numpy Interface"
   ]
  },
  {
   "cell_type": "code",
   "execution_count": 8,
   "metadata": {},
   "outputs": [
    {
     "data": {
      "text/plain": [
       "tensor(array([5, 4, 3, 4, 5]), device=cpu, requires_grad=False)"
      ]
     },
     "execution_count": 8,
     "metadata": {},
     "output_type": "execute_result"
    }
   ],
   "source": [
    "torchy.maximum(x, y)"
   ]
  },
  {
   "cell_type": "code",
   "execution_count": 9,
   "metadata": {},
   "outputs": [
    {
     "data": {
      "text/plain": [
       "tensor(array([1, 2, 3, 2, 1]), device=cpu, requires_grad=False)"
      ]
     },
     "execution_count": 9,
     "metadata": {},
     "output_type": "execute_result"
    }
   ],
   "source": [
    "torchy.minimum(x, y)"
   ]
  },
  {
   "cell_type": "code",
   "execution_count": 10,
   "metadata": {},
   "outputs": [
    {
     "data": {
      "text/plain": [
       "tensor(array([ 0.54030231, -0.41614684, -0.9899925 , -0.65364362,  0.28366219]), device=cpu, requires_grad=False)"
      ]
     },
     "execution_count": 10,
     "metadata": {},
     "output_type": "execute_result"
    }
   ],
   "source": [
    "torchy.cos(x)"
   ]
  },
  {
   "cell_type": "code",
   "execution_count": 11,
   "metadata": {},
   "outputs": [
    {
     "data": {
      "text/plain": [
       "tensor(array([ 0.84147098,  0.90929743,  0.14112001, -0.7568025 , -0.95892427]), device=cpu, requires_grad=False)"
      ]
     },
     "execution_count": 11,
     "metadata": {},
     "output_type": "execute_result"
    }
   ],
   "source": [
    "torchy.sin(x)"
   ]
  },
  {
   "cell_type": "code",
   "execution_count": 12,
   "metadata": {},
   "outputs": [
    {
     "data": {
      "text/plain": [
       "tensor(array([ 1.55740772, -2.18503986, -0.14254654,  1.15782128, -3.38051501]), device=cpu, requires_grad=False)"
      ]
     },
     "execution_count": 12,
     "metadata": {},
     "output_type": "execute_result"
    }
   ],
   "source": [
    "torchy.tan(x)"
   ]
  },
  {
   "cell_type": "code",
   "execution_count": 13,
   "metadata": {},
   "outputs": [
    {
     "data": {
      "text/plain": [
       "tensor(array([1.        , 2.        , 3.        , 2.28318531, 1.28318531]), device=cpu, requires_grad=False)"
      ]
     },
     "execution_count": 13,
     "metadata": {},
     "output_type": "execute_result"
    }
   ],
   "source": [
    "torchy.arccos(torchy.cos(x))"
   ]
  },
  {
   "cell_type": "code",
   "execution_count": 17,
   "metadata": {},
   "outputs": [
    {
     "data": {
      "text/plain": [
       "tensor(array([ 1.        ,  1.14159265,  0.14159265, -0.85840735, -1.28318531]), device=cpu, requires_grad=False)"
      ]
     },
     "execution_count": 17,
     "metadata": {},
     "output_type": "execute_result"
    }
   ],
   "source": [
    "torchy.arcsin(torchy.sin(x))"
   ]
  },
  {
   "cell_type": "code",
   "execution_count": 18,
   "metadata": {},
   "outputs": [
    {
     "data": {
      "text/plain": [
       "tensor(array([ 1.        , -1.14159265, -0.14159265,  0.85840735, -1.28318531]), device=cpu, requires_grad=False)"
      ]
     },
     "execution_count": 18,
     "metadata": {},
     "output_type": "execute_result"
    }
   ],
   "source": [
    "torchy.arctan(torchy.tan(x))"
   ]
  },
  {
   "cell_type": "code",
   "execution_count": 19,
   "metadata": {},
   "outputs": [
    {
     "data": {
      "text/plain": [
       "tensor(array([False, False,  True, False, False]), device=cpu, requires_grad=False)"
      ]
     },
     "execution_count": 19,
     "metadata": {},
     "output_type": "execute_result"
    }
   ],
   "source": [
    "torchy.equal(x, y)"
   ]
  },
  {
   "cell_type": "markdown",
   "metadata": {},
   "source": [
    "# Basic Gradients Calculations"
   ]
  },
  {
   "cell_type": "markdown",
   "metadata": {},
   "source": []
  },
  {
   "cell_type": "markdown",
   "metadata": {},
   "source": [
    "# Neural Network"
   ]
  },
  {
   "cell_type": "markdown",
   "metadata": {},
   "source": []
  }
 ],
 "metadata": {
  "kernelspec": {
   "display_name": "torchy",
   "language": "python",
   "name": "python3"
  },
  "language_info": {
   "codemirror_mode": {
    "name": "ipython",
    "version": 3
   },
   "file_extension": ".py",
   "mimetype": "text/x-python",
   "name": "python",
   "nbconvert_exporter": "python",
   "pygments_lexer": "ipython3",
   "version": "3.10.16"
  }
 },
 "nbformat": 4,
 "nbformat_minor": 2
}
